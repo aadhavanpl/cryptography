{
 "cells": [
  {
   "cell_type": "code",
   "execution_count": 3,
   "metadata": {},
   "outputs": [
    {
     "name": "stdout",
     "output_type": "stream",
     "text": [
      "MESSAGEDIGESTGUARANTEESTHEINTEGRITYOFAMESSAGEITGUARANTEESTHATTHEMESSAGEHASNOTBEENCHANGED\n"
     ]
    }
   ],
   "source": [
    "import numpy as np\n",
    "\n",
    "def letterToNumber(s):\n",
    "    return [ord(c) - 65 for c in s]\n",
    "\n",
    "f = open(\"hill.txt\", mode='r', encoding='utf-8')\n",
    "line = f.readline()\n",
    "cipherInput = line\n",
    "cipherText = np.array(letterToNumber(cipherInput))\n",
    "\n",
    "key = np.array([[2,14,13,13],[4,2,19,4],[3,6,17,0],[15,7,8,2]])\n",
    "\n",
    "keyDim = key.shape[0]\n",
    "cipherDim = len(cipherText)\n",
    "\n",
    "keyInverse = (np.linalg.inv(key).T * np.linalg.det(key)) % 26\n",
    "\n",
    "plainText = ''\n",
    "\n",
    "result = []\n",
    "index = 0\n",
    "\n",
    "for i in range(int(cipherDim/keyDim)):\n",
    "    result.append(np.dot(cipherText[index:index+keyDim],keyInverse))\n",
    "    index+=keyDim\n",
    "\n",
    "for i in result:\n",
    "    for num in i: plainText += chr(int(round(num,0) % 26 + 65))\n",
    "\n",
    "print(plainText)"
   ]
  }
 ],
 "metadata": {
  "kernelspec": {
   "display_name": "Python 3.10.6 64-bit",
   "language": "python",
   "name": "python3"
  },
  "language_info": {
   "codemirror_mode": {
    "name": "ipython",
    "version": 3
   },
   "file_extension": ".py",
   "mimetype": "text/x-python",
   "name": "python",
   "nbconvert_exporter": "python",
   "pygments_lexer": "ipython3",
   "version": "3.10.6"
  },
  "orig_nbformat": 4,
  "vscode": {
   "interpreter": {
    "hash": "369f2c481f4da34e4445cda3fffd2e751bd1c4d706f27375911949ba6bb62e1c"
   }
  }
 },
 "nbformat": 4,
 "nbformat_minor": 2
}
