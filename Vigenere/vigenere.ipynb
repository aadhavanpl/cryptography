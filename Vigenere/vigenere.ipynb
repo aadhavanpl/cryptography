{
 "cells": [
  {
   "cell_type": "code",
   "execution_count": 1,
   "metadata": {},
   "outputs": [
    {
     "name": "stdout",
     "output_type": "stream",
     "text": [
      "ALLCRYPTOGRAPHICHASHFUNCTIONSMUSTCREATEAFIXEDSIZEDIGESTOUTOFAVARIABLESIZEMESSAGECREATINGSUCHAFUNCTIONISBESTACCOMPLISHEDUSINGITERATIONASETOFCRYPTOGRAPHICHASHFUNCTIONSUSESCOMPRESSIONFUNCTIONSTHATAREMADEFROMSCRATCH\n"
     ]
    }
   ],
   "source": [
    "def letterToNumber(s):\n",
    "    return [ord(c) - 65 for c in s]\n",
    "\n",
    "f = open(\"vigenere.txt\", mode='r', encoding='utf-8')\n",
    "line = f.readline()\n",
    "cipherInput = line\n",
    "cipherText = letterToNumber(cipherInput)\n",
    "\n",
    "givenKey = \"INTEGRITY\"\n",
    "key = letterToNumber(givenKey)\n",
    "\n",
    "plainText = ''\n",
    "j = 0\n",
    "\n",
    "for i in range(len(cipherText)):\n",
    "    plainText+=chr((int(cipherText[i]) - int(key[j]))%26 + 65)\n",
    "    j+=1\n",
    "    if j == len(key): j = 0\n",
    "print(plainText)"
   ]
  }
 ],
 "metadata": {
  "kernelspec": {
   "display_name": "Python 3",
   "language": "python",
   "name": "python3"
  },
  "language_info": {
   "codemirror_mode": {
    "name": "ipython",
    "version": 3
   },
   "file_extension": ".py",
   "mimetype": "text/x-python",
   "name": "python",
   "nbconvert_exporter": "python",
   "pygments_lexer": "ipython3",
   "version": "3.10.6"
  },
  "orig_nbformat": 4,
  "vscode": {
   "interpreter": {
    "hash": "369f2c481f4da34e4445cda3fffd2e751bd1c4d706f27375911949ba6bb62e1c"
   }
  }
 },
 "nbformat": 4,
 "nbformat_minor": 2
}
